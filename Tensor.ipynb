{
  "nbformat": 4,
  "nbformat_minor": 0,
  "metadata": {
    "colab": {
      "provenance": [],
      "gpuType": "T4",
      "authorship_tag": "ABX9TyNc42hxpeHpwKuIrQ4peiwY",
      "include_colab_link": true
    },
    "kernelspec": {
      "name": "python3",
      "display_name": "Python 3"
    },
    "language_info": {
      "name": "python"
    },
    "accelerator": "GPU"
  },
  "cells": [
    {
      "cell_type": "markdown",
      "metadata": {
        "id": "view-in-github",
        "colab_type": "text"
      },
      "source": [
        "<a href=\"https://colab.research.google.com/github/JonathonLeiding/introductory_neural_network/blob/main/Tensor.ipynb\" target=\"_parent\"><img src=\"https://colab.research.google.com/assets/colab-badge.svg\" alt=\"Open In Colab\"/></a>"
      ]
    },
    {
      "cell_type": "code",
      "execution_count": 1,
      "metadata": {
        "id": "BNMKszfzGG9h"
      },
      "outputs": [],
      "source": []
    },
    {
      "cell_type": "markdown",
      "source": [
        "## **Tensors**\n",
        "\n",
        "\n",
        "\n",
        "*   Basically a multi-dimensional matrix, like a Numpy Array, but they are built to work better with GPUs than CPUs\n",
        "*   Particularly helpful because GPUs can train models dozens of times faster than CPUs\n",
        "*   default data is float32\n",
        "\n"
      ],
      "metadata": {
        "id": "wnxA4XqpGfNC"
      }
    },
    {
      "cell_type": "code",
      "source": [
        "import torch\n",
        "import numpy as np"
      ],
      "metadata": {
        "id": "hmorC3t0IB-5"
      },
      "execution_count": 1,
      "outputs": []
    },
    {
      "cell_type": "code",
      "source": [],
      "metadata": {
        "id": "hq0wuQMZINlR"
      },
      "execution_count": null,
      "outputs": []
    },
    {
      "cell_type": "markdown",
      "source": [
        "## **Numpy Arrays**"
      ],
      "metadata": {
        "id": "RXTC3uA6IaNu"
      }
    },
    {
      "cell_type": "code",
      "source": [
        "np1 = np.random.rand(3,4)\n",
        "np1"
      ],
      "metadata": {
        "colab": {
          "base_uri": "https://localhost:8080/"
        },
        "id": "-mF33L8AIO0-",
        "outputId": "600a7a1a-7508-4922-ac8c-12742ee8492a"
      },
      "execution_count": 2,
      "outputs": [
        {
          "output_type": "execute_result",
          "data": {
            "text/plain": [
              "array([[0.27864894, 0.44484001, 0.07788115, 0.774109  ],\n",
              "       [0.73706741, 0.6797807 , 0.42131226, 0.04911356],\n",
              "       [0.23764371, 0.36213124, 0.63004261, 0.4235711 ]])"
            ]
          },
          "metadata": {},
          "execution_count": 2
        }
      ]
    },
    {
      "cell_type": "code",
      "source": [
        "np1.dtype\n"
      ],
      "metadata": {
        "colab": {
          "base_uri": "https://localhost:8080/"
        },
        "id": "kzsaTzbIIloQ",
        "outputId": "1313df73-16f3-47ff-8010-bd802987da9b"
      },
      "execution_count": 3,
      "outputs": [
        {
          "output_type": "execute_result",
          "data": {
            "text/plain": [
              "dtype('float64')"
            ]
          },
          "metadata": {},
          "execution_count": 3
        }
      ]
    },
    {
      "cell_type": "code",
      "source": [],
      "metadata": {
        "id": "3AGFQmOLIrKV"
      },
      "execution_count": null,
      "outputs": []
    },
    {
      "cell_type": "markdown",
      "source": [
        "## **Tensors**"
      ],
      "metadata": {
        "id": "qBTDJ1V-Isex"
      }
    },
    {
      "cell_type": "code",
      "source": [
        "tensor2d = torch.randn(3,4)\n",
        "tensor2d"
      ],
      "metadata": {
        "colab": {
          "base_uri": "https://localhost:8080/"
        },
        "id": "OOWvhxZnIvJa",
        "outputId": "9caafe62-23e3-4432-9125-fadbc4e33909"
      },
      "execution_count": 4,
      "outputs": [
        {
          "output_type": "execute_result",
          "data": {
            "text/plain": [
              "tensor([[ 0.2764, -0.3027,  0.8221,  0.2007],\n",
              "        [ 1.5648,  0.7165,  1.2533, -0.8576],\n",
              "        [-0.1809, -0.5543,  0.1054,  1.0086]])"
            ]
          },
          "metadata": {},
          "execution_count": 4
        }
      ]
    },
    {
      "cell_type": "code",
      "source": [
        "tensor3d = torch.randn(2,3,4)\n",
        "tensor3d"
      ],
      "metadata": {
        "colab": {
          "base_uri": "https://localhost:8080/"
        },
        "id": "OUh6duJVI3Vn",
        "outputId": "ba7c832a-25b7-4495-bc94-4640feb82609"
      },
      "execution_count": 6,
      "outputs": [
        {
          "output_type": "execute_result",
          "data": {
            "text/plain": [
              "tensor([[[ 0.4333, -0.9978, -0.4683,  0.7104],\n",
              "         [ 1.0107,  1.3716, -0.2769,  0.6708],\n",
              "         [-0.5832, -1.0524,  1.4361, -0.5404]],\n",
              "\n",
              "        [[-0.9527, -0.0833, -1.1006, -0.7809],\n",
              "         [-0.0779, -1.8803, -0.6936, -0.3216],\n",
              "         [ 0.6006,  1.8377,  0.1070, -1.8299]]])"
            ]
          },
          "metadata": {},
          "execution_count": 6
        }
      ]
    },
    {
      "cell_type": "code",
      "source": [
        "## Create tensor out of Numpy away\n",
        "tensor_covt = torch.tensor(np1)\n",
        "tensor_covt"
      ],
      "metadata": {
        "colab": {
          "base_uri": "https://localhost:8080/"
        },
        "id": "nUZmGD80JDD8",
        "outputId": "b92c7282-1bbf-42d7-a34f-4c227a877913"
      },
      "execution_count": 7,
      "outputs": [
        {
          "output_type": "execute_result",
          "data": {
            "text/plain": [
              "tensor([[0.2786, 0.4448, 0.0779, 0.7741],\n",
              "        [0.7371, 0.6798, 0.4213, 0.0491],\n",
              "        [0.2376, 0.3621, 0.6300, 0.4236]], dtype=torch.float64)"
            ]
          },
          "metadata": {},
          "execution_count": 7
        }
      ]
    },
    {
      "cell_type": "code",
      "source": [],
      "metadata": {
        "id": "D1OBDNH7J0ex"
      },
      "execution_count": null,
      "outputs": []
    }
  ]
}