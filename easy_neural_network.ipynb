{
  "nbformat": 4,
  "nbformat_minor": 0,
  "metadata": {
    "colab": {
      "provenance": [],
      "gpuType": "T4",
      "authorship_tag": "ABX9TyOa3nbGUp+AVFBowgNXYzC9",
      "include_colab_link": true
    },
    "kernelspec": {
      "name": "python3",
      "display_name": "Python 3"
    },
    "language_info": {
      "name": "python"
    },
    "accelerator": "GPU"
  },
  "cells": [
    {
      "cell_type": "markdown",
      "metadata": {
        "id": "view-in-github",
        "colab_type": "text"
      },
      "source": [
        "<a href=\"https://colab.research.google.com/github/JonathonLeiding/introductory_neural_network/blob/main/easy_neural_network.ipynb\" target=\"_parent\"><img src=\"https://colab.research.google.com/assets/colab-badge.svg\" alt=\"Open In Colab\"/></a>"
      ]
    },
    {
      "cell_type": "code",
      "execution_count": 18,
      "metadata": {
        "id": "7fTDW5ECNnri"
      },
      "outputs": [],
      "source": [
        "import torch\n",
        "import torch.nn as nn\n",
        "import torch.nn.functional as F\n",
        "import torch.optim as optim\n",
        "from torch.utils.data import Dataset, DataLoader\n",
        "import pandas as pd\n",
        "import numpy as np\n",
        "import matplotlib.pyplot as plt\n",
        "import seaborn as sns"
      ]
    },
    {
      "cell_type": "code",
      "source": [
        "# Create a Model Class that inherits the nn.Module\n",
        "class Model(nn.Module):\n",
        "  # Input layer (4 features of the flower) -> H1 Layer (some # of neurons) -> H2 Layer (some # of neurons) -> H1 Layer (some # of neurons) -> Output layer (3 classes of iris flowers)\n",
        "\n",
        "    def __init__(self, in_features=4, h1=8, h2=9, h3=10, out_features=3):\n",
        "        super().__init__() #instantiates nn.Module\n",
        "        self.fc1 = nn.Linear(in_features, h1)\n",
        "        self.fc2 = nn.Linear(h1, h2)\n",
        "        self.fc3 = nn.Linear(h2, h3)\n",
        "        self.out = nn.Linear(h3, out_features)\n",
        "\n",
        "        # Feed Forward\n",
        "    def forward(self, x):\n",
        "        x = F.leaky_relu(self.fc1(x))\n",
        "        x = F.leaky_relu(self.fc2(x))\n",
        "        x = F.leaky_relu(self.fc3(x))\n",
        "\n",
        "        return x\n",
        "\n"
      ],
      "metadata": {
        "id": "bLG98XBoNx7M"
      },
      "execution_count": 19,
      "outputs": []
    },
    {
      "cell_type": "code",
      "source": [
        "# Pick a seed for randomization\n",
        "torch.manual_seed(29)\n",
        "# Create an instance of a Model\n",
        "model = Model()"
      ],
      "metadata": {
        "id": "7WTTghq0Nx9e"
      },
      "execution_count": 20,
      "outputs": []
    },
    {
      "cell_type": "code",
      "source": [
        "%matplotlib inline"
      ],
      "metadata": {
        "id": "nzVH6s0fNx_K"
      },
      "execution_count": 21,
      "outputs": []
    },
    {
      "cell_type": "code",
      "source": [
        "url = 'https://gist.githubusercontent.com/curran/a08a1080b88344b0c8a7/raw/0e7a9b0a5d22642a06d3d5b9bcbad9890c8ee534/iris.csv'\n",
        "my_df = pd.read_csv(url)"
      ],
      "metadata": {
        "id": "WszGgwfENyBW"
      },
      "execution_count": 22,
      "outputs": []
    },
    {
      "cell_type": "code",
      "source": [
        "my_df"
      ],
      "metadata": {
        "colab": {
          "base_uri": "https://localhost:8080/",
          "height": 424
        },
        "id": "505NfumiNyDd",
        "outputId": "074e4e3e-c813-4316-e3c0-9af75608fb75"
      },
      "execution_count": 23,
      "outputs": [
        {
          "output_type": "execute_result",
          "data": {
            "text/plain": [
              "     sepal_length  sepal_width  petal_length  petal_width    species\n",
              "0             5.1          3.5           1.4          0.2     setosa\n",
              "1             4.9          3.0           1.4          0.2     setosa\n",
              "2             4.7          3.2           1.3          0.2     setosa\n",
              "3             4.6          3.1           1.5          0.2     setosa\n",
              "4             5.0          3.6           1.4          0.2     setosa\n",
              "..            ...          ...           ...          ...        ...\n",
              "145           6.7          3.0           5.2          2.3  virginica\n",
              "146           6.3          2.5           5.0          1.9  virginica\n",
              "147           6.5          3.0           5.2          2.0  virginica\n",
              "148           6.2          3.4           5.4          2.3  virginica\n",
              "149           5.9          3.0           5.1          1.8  virginica\n",
              "\n",
              "[150 rows x 5 columns]"
            ],
            "text/html": [
              "\n",
              "  <div id=\"df-db5e0f9e-942b-4516-a9fc-31384863f10a\" class=\"colab-df-container\">\n",
              "    <div>\n",
              "<style scoped>\n",
              "    .dataframe tbody tr th:only-of-type {\n",
              "        vertical-align: middle;\n",
              "    }\n",
              "\n",
              "    .dataframe tbody tr th {\n",
              "        vertical-align: top;\n",
              "    }\n",
              "\n",
              "    .dataframe thead th {\n",
              "        text-align: right;\n",
              "    }\n",
              "</style>\n",
              "<table border=\"1\" class=\"dataframe\">\n",
              "  <thead>\n",
              "    <tr style=\"text-align: right;\">\n",
              "      <th></th>\n",
              "      <th>sepal_length</th>\n",
              "      <th>sepal_width</th>\n",
              "      <th>petal_length</th>\n",
              "      <th>petal_width</th>\n",
              "      <th>species</th>\n",
              "    </tr>\n",
              "  </thead>\n",
              "  <tbody>\n",
              "    <tr>\n",
              "      <th>0</th>\n",
              "      <td>5.1</td>\n",
              "      <td>3.5</td>\n",
              "      <td>1.4</td>\n",
              "      <td>0.2</td>\n",
              "      <td>setosa</td>\n",
              "    </tr>\n",
              "    <tr>\n",
              "      <th>1</th>\n",
              "      <td>4.9</td>\n",
              "      <td>3.0</td>\n",
              "      <td>1.4</td>\n",
              "      <td>0.2</td>\n",
              "      <td>setosa</td>\n",
              "    </tr>\n",
              "    <tr>\n",
              "      <th>2</th>\n",
              "      <td>4.7</td>\n",
              "      <td>3.2</td>\n",
              "      <td>1.3</td>\n",
              "      <td>0.2</td>\n",
              "      <td>setosa</td>\n",
              "    </tr>\n",
              "    <tr>\n",
              "      <th>3</th>\n",
              "      <td>4.6</td>\n",
              "      <td>3.1</td>\n",
              "      <td>1.5</td>\n",
              "      <td>0.2</td>\n",
              "      <td>setosa</td>\n",
              "    </tr>\n",
              "    <tr>\n",
              "      <th>4</th>\n",
              "      <td>5.0</td>\n",
              "      <td>3.6</td>\n",
              "      <td>1.4</td>\n",
              "      <td>0.2</td>\n",
              "      <td>setosa</td>\n",
              "    </tr>\n",
              "    <tr>\n",
              "      <th>...</th>\n",
              "      <td>...</td>\n",
              "      <td>...</td>\n",
              "      <td>...</td>\n",
              "      <td>...</td>\n",
              "      <td>...</td>\n",
              "    </tr>\n",
              "    <tr>\n",
              "      <th>145</th>\n",
              "      <td>6.7</td>\n",
              "      <td>3.0</td>\n",
              "      <td>5.2</td>\n",
              "      <td>2.3</td>\n",
              "      <td>virginica</td>\n",
              "    </tr>\n",
              "    <tr>\n",
              "      <th>146</th>\n",
              "      <td>6.3</td>\n",
              "      <td>2.5</td>\n",
              "      <td>5.0</td>\n",
              "      <td>1.9</td>\n",
              "      <td>virginica</td>\n",
              "    </tr>\n",
              "    <tr>\n",
              "      <th>147</th>\n",
              "      <td>6.5</td>\n",
              "      <td>3.0</td>\n",
              "      <td>5.2</td>\n",
              "      <td>2.0</td>\n",
              "      <td>virginica</td>\n",
              "    </tr>\n",
              "    <tr>\n",
              "      <th>148</th>\n",
              "      <td>6.2</td>\n",
              "      <td>3.4</td>\n",
              "      <td>5.4</td>\n",
              "      <td>2.3</td>\n",
              "      <td>virginica</td>\n",
              "    </tr>\n",
              "    <tr>\n",
              "      <th>149</th>\n",
              "      <td>5.9</td>\n",
              "      <td>3.0</td>\n",
              "      <td>5.1</td>\n",
              "      <td>1.8</td>\n",
              "      <td>virginica</td>\n",
              "    </tr>\n",
              "  </tbody>\n",
              "</table>\n",
              "<p>150 rows × 5 columns</p>\n",
              "</div>\n",
              "    <div class=\"colab-df-buttons\">\n",
              "\n",
              "  <div class=\"colab-df-container\">\n",
              "    <button class=\"colab-df-convert\" onclick=\"convertToInteractive('df-db5e0f9e-942b-4516-a9fc-31384863f10a')\"\n",
              "            title=\"Convert this dataframe to an interactive table.\"\n",
              "            style=\"display:none;\">\n",
              "\n",
              "  <svg xmlns=\"http://www.w3.org/2000/svg\" height=\"24px\" viewBox=\"0 -960 960 960\">\n",
              "    <path d=\"M120-120v-720h720v720H120Zm60-500h600v-160H180v160Zm220 220h160v-160H400v160Zm0 220h160v-160H400v160ZM180-400h160v-160H180v160Zm440 0h160v-160H620v160ZM180-180h160v-160H180v160Zm440 0h160v-160H620v160Z\"/>\n",
              "  </svg>\n",
              "    </button>\n",
              "\n",
              "  <style>\n",
              "    .colab-df-container {\n",
              "      display:flex;\n",
              "      gap: 12px;\n",
              "    }\n",
              "\n",
              "    .colab-df-convert {\n",
              "      background-color: #E8F0FE;\n",
              "      border: none;\n",
              "      border-radius: 50%;\n",
              "      cursor: pointer;\n",
              "      display: none;\n",
              "      fill: #1967D2;\n",
              "      height: 32px;\n",
              "      padding: 0 0 0 0;\n",
              "      width: 32px;\n",
              "    }\n",
              "\n",
              "    .colab-df-convert:hover {\n",
              "      background-color: #E2EBFA;\n",
              "      box-shadow: 0px 1px 2px rgba(60, 64, 67, 0.3), 0px 1px 3px 1px rgba(60, 64, 67, 0.15);\n",
              "      fill: #174EA6;\n",
              "    }\n",
              "\n",
              "    .colab-df-buttons div {\n",
              "      margin-bottom: 4px;\n",
              "    }\n",
              "\n",
              "    [theme=dark] .colab-df-convert {\n",
              "      background-color: #3B4455;\n",
              "      fill: #D2E3FC;\n",
              "    }\n",
              "\n",
              "    [theme=dark] .colab-df-convert:hover {\n",
              "      background-color: #434B5C;\n",
              "      box-shadow: 0px 1px 3px 1px rgba(0, 0, 0, 0.15);\n",
              "      filter: drop-shadow(0px 1px 2px rgba(0, 0, 0, 0.3));\n",
              "      fill: #FFFFFF;\n",
              "    }\n",
              "  </style>\n",
              "\n",
              "    <script>\n",
              "      const buttonEl =\n",
              "        document.querySelector('#df-db5e0f9e-942b-4516-a9fc-31384863f10a button.colab-df-convert');\n",
              "      buttonEl.style.display =\n",
              "        google.colab.kernel.accessAllowed ? 'block' : 'none';\n",
              "\n",
              "      async function convertToInteractive(key) {\n",
              "        const element = document.querySelector('#df-db5e0f9e-942b-4516-a9fc-31384863f10a');\n",
              "        const dataTable =\n",
              "          await google.colab.kernel.invokeFunction('convertToInteractive',\n",
              "                                                    [key], {});\n",
              "        if (!dataTable) return;\n",
              "\n",
              "        const docLinkHtml = 'Like what you see? Visit the ' +\n",
              "          '<a target=\"_blank\" href=https://colab.research.google.com/notebooks/data_table.ipynb>data table notebook</a>'\n",
              "          + ' to learn more about interactive tables.';\n",
              "        element.innerHTML = '';\n",
              "        dataTable['output_type'] = 'display_data';\n",
              "        await google.colab.output.renderOutput(dataTable, element);\n",
              "        const docLink = document.createElement('div');\n",
              "        docLink.innerHTML = docLinkHtml;\n",
              "        element.appendChild(docLink);\n",
              "      }\n",
              "    </script>\n",
              "  </div>\n",
              "\n",
              "\n",
              "    <div id=\"df-5a7d2817-c711-402f-85c7-51ffc9f371ae\">\n",
              "      <button class=\"colab-df-quickchart\" onclick=\"quickchart('df-5a7d2817-c711-402f-85c7-51ffc9f371ae')\"\n",
              "                title=\"Suggest charts\"\n",
              "                style=\"display:none;\">\n",
              "\n",
              "<svg xmlns=\"http://www.w3.org/2000/svg\" height=\"24px\"viewBox=\"0 0 24 24\"\n",
              "     width=\"24px\">\n",
              "    <g>\n",
              "        <path d=\"M19 3H5c-1.1 0-2 .9-2 2v14c0 1.1.9 2 2 2h14c1.1 0 2-.9 2-2V5c0-1.1-.9-2-2-2zM9 17H7v-7h2v7zm4 0h-2V7h2v10zm4 0h-2v-4h2v4z\"/>\n",
              "    </g>\n",
              "</svg>\n",
              "      </button>\n",
              "\n",
              "<style>\n",
              "  .colab-df-quickchart {\n",
              "      --bg-color: #E8F0FE;\n",
              "      --fill-color: #1967D2;\n",
              "      --hover-bg-color: #E2EBFA;\n",
              "      --hover-fill-color: #174EA6;\n",
              "      --disabled-fill-color: #AAA;\n",
              "      --disabled-bg-color: #DDD;\n",
              "  }\n",
              "\n",
              "  [theme=dark] .colab-df-quickchart {\n",
              "      --bg-color: #3B4455;\n",
              "      --fill-color: #D2E3FC;\n",
              "      --hover-bg-color: #434B5C;\n",
              "      --hover-fill-color: #FFFFFF;\n",
              "      --disabled-bg-color: #3B4455;\n",
              "      --disabled-fill-color: #666;\n",
              "  }\n",
              "\n",
              "  .colab-df-quickchart {\n",
              "    background-color: var(--bg-color);\n",
              "    border: none;\n",
              "    border-radius: 50%;\n",
              "    cursor: pointer;\n",
              "    display: none;\n",
              "    fill: var(--fill-color);\n",
              "    height: 32px;\n",
              "    padding: 0;\n",
              "    width: 32px;\n",
              "  }\n",
              "\n",
              "  .colab-df-quickchart:hover {\n",
              "    background-color: var(--hover-bg-color);\n",
              "    box-shadow: 0 1px 2px rgba(60, 64, 67, 0.3), 0 1px 3px 1px rgba(60, 64, 67, 0.15);\n",
              "    fill: var(--button-hover-fill-color);\n",
              "  }\n",
              "\n",
              "  .colab-df-quickchart-complete:disabled,\n",
              "  .colab-df-quickchart-complete:disabled:hover {\n",
              "    background-color: var(--disabled-bg-color);\n",
              "    fill: var(--disabled-fill-color);\n",
              "    box-shadow: none;\n",
              "  }\n",
              "\n",
              "  .colab-df-spinner {\n",
              "    border: 2px solid var(--fill-color);\n",
              "    border-color: transparent;\n",
              "    border-bottom-color: var(--fill-color);\n",
              "    animation:\n",
              "      spin 1s steps(1) infinite;\n",
              "  }\n",
              "\n",
              "  @keyframes spin {\n",
              "    0% {\n",
              "      border-color: transparent;\n",
              "      border-bottom-color: var(--fill-color);\n",
              "      border-left-color: var(--fill-color);\n",
              "    }\n",
              "    20% {\n",
              "      border-color: transparent;\n",
              "      border-left-color: var(--fill-color);\n",
              "      border-top-color: var(--fill-color);\n",
              "    }\n",
              "    30% {\n",
              "      border-color: transparent;\n",
              "      border-left-color: var(--fill-color);\n",
              "      border-top-color: var(--fill-color);\n",
              "      border-right-color: var(--fill-color);\n",
              "    }\n",
              "    40% {\n",
              "      border-color: transparent;\n",
              "      border-right-color: var(--fill-color);\n",
              "      border-top-color: var(--fill-color);\n",
              "    }\n",
              "    60% {\n",
              "      border-color: transparent;\n",
              "      border-right-color: var(--fill-color);\n",
              "    }\n",
              "    80% {\n",
              "      border-color: transparent;\n",
              "      border-right-color: var(--fill-color);\n",
              "      border-bottom-color: var(--fill-color);\n",
              "    }\n",
              "    90% {\n",
              "      border-color: transparent;\n",
              "      border-bottom-color: var(--fill-color);\n",
              "    }\n",
              "  }\n",
              "</style>\n",
              "\n",
              "      <script>\n",
              "        async function quickchart(key) {\n",
              "          const quickchartButtonEl =\n",
              "            document.querySelector('#' + key + ' button');\n",
              "          quickchartButtonEl.disabled = true;  // To prevent multiple clicks.\n",
              "          quickchartButtonEl.classList.add('colab-df-spinner');\n",
              "          try {\n",
              "            const charts = await google.colab.kernel.invokeFunction(\n",
              "                'suggestCharts', [key], {});\n",
              "          } catch (error) {\n",
              "            console.error('Error during call to suggestCharts:', error);\n",
              "          }\n",
              "          quickchartButtonEl.classList.remove('colab-df-spinner');\n",
              "          quickchartButtonEl.classList.add('colab-df-quickchart-complete');\n",
              "        }\n",
              "        (() => {\n",
              "          let quickchartButtonEl =\n",
              "            document.querySelector('#df-5a7d2817-c711-402f-85c7-51ffc9f371ae button');\n",
              "          quickchartButtonEl.style.display =\n",
              "            google.colab.kernel.accessAllowed ? 'block' : 'none';\n",
              "        })();\n",
              "      </script>\n",
              "    </div>\n",
              "\n",
              "  <div id=\"id_3d203cb5-d22a-47cb-8e7c-a5e6c43b2ae8\">\n",
              "    <style>\n",
              "      .colab-df-generate {\n",
              "        background-color: #E8F0FE;\n",
              "        border: none;\n",
              "        border-radius: 50%;\n",
              "        cursor: pointer;\n",
              "        display: none;\n",
              "        fill: #1967D2;\n",
              "        height: 32px;\n",
              "        padding: 0 0 0 0;\n",
              "        width: 32px;\n",
              "      }\n",
              "\n",
              "      .colab-df-generate:hover {\n",
              "        background-color: #E2EBFA;\n",
              "        box-shadow: 0px 1px 2px rgba(60, 64, 67, 0.3), 0px 1px 3px 1px rgba(60, 64, 67, 0.15);\n",
              "        fill: #174EA6;\n",
              "      }\n",
              "\n",
              "      [theme=dark] .colab-df-generate {\n",
              "        background-color: #3B4455;\n",
              "        fill: #D2E3FC;\n",
              "      }\n",
              "\n",
              "      [theme=dark] .colab-df-generate:hover {\n",
              "        background-color: #434B5C;\n",
              "        box-shadow: 0px 1px 3px 1px rgba(0, 0, 0, 0.15);\n",
              "        filter: drop-shadow(0px 1px 2px rgba(0, 0, 0, 0.3));\n",
              "        fill: #FFFFFF;\n",
              "      }\n",
              "    </style>\n",
              "    <button class=\"colab-df-generate\" onclick=\"generateWithVariable('my_df')\"\n",
              "            title=\"Generate code using this dataframe.\"\n",
              "            style=\"display:none;\">\n",
              "\n",
              "  <svg xmlns=\"http://www.w3.org/2000/svg\" height=\"24px\"viewBox=\"0 0 24 24\"\n",
              "       width=\"24px\">\n",
              "    <path d=\"M7,19H8.4L18.45,9,17,7.55,7,17.6ZM5,21V16.75L18.45,3.32a2,2,0,0,1,2.83,0l1.4,1.43a1.91,1.91,0,0,1,.58,1.4,1.91,1.91,0,0,1-.58,1.4L9.25,21ZM18.45,9,17,7.55Zm-12,3A5.31,5.31,0,0,0,4.9,8.1,5.31,5.31,0,0,0,1,6.5,5.31,5.31,0,0,0,4.9,4.9,5.31,5.31,0,0,0,6.5,1,5.31,5.31,0,0,0,8.1,4.9,5.31,5.31,0,0,0,12,6.5,5.46,5.46,0,0,0,6.5,12Z\"/>\n",
              "  </svg>\n",
              "    </button>\n",
              "    <script>\n",
              "      (() => {\n",
              "      const buttonEl =\n",
              "        document.querySelector('#id_3d203cb5-d22a-47cb-8e7c-a5e6c43b2ae8 button.colab-df-generate');\n",
              "      buttonEl.style.display =\n",
              "        google.colab.kernel.accessAllowed ? 'block' : 'none';\n",
              "\n",
              "      buttonEl.onclick = () => {\n",
              "        google.colab.notebook.generateWithVariable('my_df');\n",
              "      }\n",
              "      })();\n",
              "    </script>\n",
              "  </div>\n",
              "\n",
              "    </div>\n",
              "  </div>\n"
            ],
            "application/vnd.google.colaboratory.intrinsic+json": {
              "type": "dataframe",
              "variable_name": "my_df",
              "summary": "{\n  \"name\": \"my_df\",\n  \"rows\": 150,\n  \"fields\": [\n    {\n      \"column\": \"sepal_length\",\n      \"properties\": {\n        \"dtype\": \"number\",\n        \"std\": 0.8280661279778629,\n        \"min\": 4.3,\n        \"max\": 7.9,\n        \"num_unique_values\": 35,\n        \"samples\": [\n          6.2,\n          4.5,\n          5.6\n        ],\n        \"semantic_type\": \"\",\n        \"description\": \"\"\n      }\n    },\n    {\n      \"column\": \"sepal_width\",\n      \"properties\": {\n        \"dtype\": \"number\",\n        \"std\": 0.4335943113621737,\n        \"min\": 2.0,\n        \"max\": 4.4,\n        \"num_unique_values\": 23,\n        \"samples\": [\n          2.3,\n          4.0,\n          3.5\n        ],\n        \"semantic_type\": \"\",\n        \"description\": \"\"\n      }\n    },\n    {\n      \"column\": \"petal_length\",\n      \"properties\": {\n        \"dtype\": \"number\",\n        \"std\": 1.7644204199522617,\n        \"min\": 1.0,\n        \"max\": 6.9,\n        \"num_unique_values\": 43,\n        \"samples\": [\n          6.7,\n          3.8,\n          3.7\n        ],\n        \"semantic_type\": \"\",\n        \"description\": \"\"\n      }\n    },\n    {\n      \"column\": \"petal_width\",\n      \"properties\": {\n        \"dtype\": \"number\",\n        \"std\": 0.7631607417008414,\n        \"min\": 0.1,\n        \"max\": 2.5,\n        \"num_unique_values\": 22,\n        \"samples\": [\n          0.2,\n          1.2,\n          1.3\n        ],\n        \"semantic_type\": \"\",\n        \"description\": \"\"\n      }\n    },\n    {\n      \"column\": \"species\",\n      \"properties\": {\n        \"dtype\": \"category\",\n        \"num_unique_values\": 3,\n        \"samples\": [\n          \"setosa\",\n          \"versicolor\",\n          \"virginica\"\n        ],\n        \"semantic_type\": \"\",\n        \"description\": \"\"\n      }\n    }\n  ]\n}"
            }
          },
          "metadata": {},
          "execution_count": 23
        }
      ]
    },
    {
      "cell_type": "code",
      "source": [
        "#Could also do my_df['species'] = my_df['species'].replace('setosa', 0.0) and repeat for all three species\n",
        "my_df['species'] = my_df['species'].map({'setosa':0, 'versicolor':1, 'virginica':2})"
      ],
      "metadata": {
        "id": "hAX-XeKRNyFW"
      },
      "execution_count": 24,
      "outputs": []
    },
    {
      "cell_type": "code",
      "source": [
        "# Train Test Split! Set X, Y    (Note that .values convert these values to numpy arrays)\n",
        "X = my_df.drop('species', axis=1).values\n",
        "Y = my_df['species'].values"
      ],
      "metadata": {
        "id": "ubXgxohfNyHO"
      },
      "execution_count": 25,
      "outputs": []
    },
    {
      "cell_type": "code",
      "source": [
        "from sklearn.model_selection import train_test_split"
      ],
      "metadata": {
        "id": "6VDepCohNyI4"
      },
      "execution_count": 26,
      "outputs": []
    },
    {
      "cell_type": "code",
      "source": [
        "X_train, X_test, Y_train, Y_test = train_test_split(X,Y, test_size=0.2, random_state=29)"
      ],
      "metadata": {
        "id": "Ev7cArlwNyKy"
      },
      "execution_count": 27,
      "outputs": []
    },
    {
      "cell_type": "code",
      "source": [
        "# Convert X features to FloatTensor\n",
        "X_train = torch.FloatTensor(X_train)\n",
        "X_test = torch.FloatTensor(X_test)\n",
        "\n",
        "# Convert Y features to LongTensor (because they are 64 bit integers)\n",
        "Y_train = torch.LongTensor(Y_train)\n",
        "Y_test = torch.LongTensor(Y_test)"
      ],
      "metadata": {
        "id": "o8odve9WNyMp"
      },
      "execution_count": 28,
      "outputs": []
    },
    {
      "cell_type": "code",
      "source": [
        "# Set the criteria for which we measure our error (disparity between correct answers)\n",
        "criterion = nn.CrossEntropyLoss()\n",
        "\n",
        "# Choose Adam Optimizers and set learning rate (if learning rate is too high our error won't go down even after a bunch of iterations/epochs => lower lr longer it takes to learn)\n",
        "optimizer = torch.optim.Adam(model.parameters(), lr=0.01)\n",
        "#scheduler = torch.optim.lr_scheduler.StepLR(optimizer, step_size=100, gamma=0.5)     tried this but accuracy"
      ],
      "metadata": {
        "id": "Xh64HrDdNyOs"
      },
      "execution_count": 29,
      "outputs": []
    },
    {
      "cell_type": "code",
      "source": [
        "model.parameters()"
      ],
      "metadata": {
        "colab": {
          "base_uri": "https://localhost:8080/"
        },
        "id": "ZF_cqsyQWVgt",
        "outputId": "c05a30d7-f912-4422-d5a5-f10ba1deaf04"
      },
      "execution_count": 30,
      "outputs": [
        {
          "output_type": "execute_result",
          "data": {
            "text/plain": [
              "<generator object Module.parameters at 0x7817d9cb3a00>"
            ]
          },
          "metadata": {},
          "execution_count": 30
        }
      ]
    },
    {
      "cell_type": "code",
      "source": [
        "#Train our Model (Epoch := going through all the training data one time)\n",
        "epochs = 1000\n",
        "losses = []\n",
        "\n",
        "for i in range(epochs):\n",
        "  # Go Forward\n",
        "  y_prediction = model.forward(X_train) #Predicted results\n",
        "\n",
        "  # Measure error\n",
        "  loss = criterion(y_prediction, Y_train)\n",
        "  losses.append(loss.detach().cpu().numpy()) #changes the elt from a tesnor to numpy array\n",
        "\n",
        "  if i % 10 == 0:\n",
        "    print(f\"On Epoch Number {i} and loss is {loss}\")\n",
        "\n",
        "  # Do Some Back Propogation (changing weights on neurons by sending error rate of the forward propogation to learn \"better\")\n",
        "  optimizer.zero_grad()\n",
        "  loss.backward()\n",
        "  optimizer.step()\n",
        "  #scheduler.step()"
      ],
      "metadata": {
        "colab": {
          "base_uri": "https://localhost:8080/"
        },
        "id": "-7x51v1uWWAN",
        "outputId": "ee3c72fd-6eec-4da2-d049-ae22c0d434ac"
      },
      "execution_count": 31,
      "outputs": [
        {
          "output_type": "stream",
          "name": "stdout",
          "text": [
            "On Epoch Number 0 and loss is 2.359713315963745\n",
            "On Epoch Number 10 and loss is 1.758827567100525\n",
            "On Epoch Number 20 and loss is 1.6202160120010376\n",
            "On Epoch Number 30 and loss is 1.490198016166687\n",
            "On Epoch Number 40 and loss is 1.3693957328796387\n",
            "On Epoch Number 50 and loss is 1.277105689048767\n",
            "On Epoch Number 60 and loss is 1.1692317724227905\n",
            "On Epoch Number 70 and loss is 0.4373631477355957\n",
            "On Epoch Number 80 and loss is 0.09839735180139542\n",
            "On Epoch Number 90 and loss is 0.05972560867667198\n",
            "On Epoch Number 100 and loss is 0.049699798226356506\n",
            "On Epoch Number 110 and loss is 0.045603107661008835\n",
            "On Epoch Number 120 and loss is 0.043371252715587616\n",
            "On Epoch Number 130 and loss is 0.04182501509785652\n",
            "On Epoch Number 140 and loss is 0.04058771952986717\n",
            "On Epoch Number 150 and loss is 0.03951229155063629\n",
            "On Epoch Number 160 and loss is 0.03853698819875717\n",
            "On Epoch Number 170 and loss is 0.037627968937158585\n",
            "On Epoch Number 180 and loss is 0.036768242716789246\n",
            "On Epoch Number 190 and loss is 0.03594746068120003\n",
            "On Epoch Number 200 and loss is 0.03516051918268204\n",
            "On Epoch Number 210 and loss is 0.034403663128614426\n",
            "On Epoch Number 220 and loss is 0.03367547318339348\n",
            "On Epoch Number 230 and loss is 0.03297583758831024\n",
            "On Epoch Number 240 and loss is 0.03230415657162666\n",
            "On Epoch Number 250 and loss is 0.03166051208972931\n",
            "On Epoch Number 260 and loss is 0.03104560263454914\n",
            "On Epoch Number 270 and loss is 0.030461158603429794\n",
            "On Epoch Number 280 and loss is 0.029907329007983208\n",
            "On Epoch Number 290 and loss is 0.02938438206911087\n",
            "On Epoch Number 300 and loss is 0.02889743633568287\n",
            "On Epoch Number 310 and loss is 0.02980908751487732\n",
            "On Epoch Number 320 and loss is 0.028376678004860878\n",
            "On Epoch Number 330 and loss is 0.02793229930102825\n",
            "On Epoch Number 340 and loss is 0.027566414326429367\n",
            "On Epoch Number 350 and loss is 0.02731386199593544\n",
            "On Epoch Number 360 and loss is 0.02702588029205799\n",
            "On Epoch Number 370 and loss is 0.02674688585102558\n",
            "On Epoch Number 380 and loss is 0.02649025060236454\n",
            "On Epoch Number 390 and loss is 0.026239102706313133\n",
            "On Epoch Number 400 and loss is 0.026363162323832512\n",
            "On Epoch Number 410 and loss is 0.043504416942596436\n",
            "On Epoch Number 420 and loss is 0.043386343866586685\n",
            "On Epoch Number 430 and loss is 0.03154440224170685\n",
            "On Epoch Number 440 and loss is 0.026514898985624313\n",
            "On Epoch Number 450 and loss is 0.02574791945517063\n",
            "On Epoch Number 460 and loss is 0.025747714564204216\n",
            "On Epoch Number 470 and loss is 0.02561422996222973\n",
            "On Epoch Number 480 and loss is 0.02538742497563362\n",
            "On Epoch Number 490 and loss is 0.025268416851758957\n",
            "On Epoch Number 500 and loss is 0.025131599977612495\n",
            "On Epoch Number 510 and loss is 0.02500910684466362\n",
            "On Epoch Number 520 and loss is 0.024885622784495354\n",
            "On Epoch Number 530 and loss is 0.02476421371102333\n",
            "On Epoch Number 540 and loss is 0.02464432083070278\n",
            "On Epoch Number 550 and loss is 0.024525441229343414\n",
            "On Epoch Number 560 and loss is 0.024407530203461647\n",
            "On Epoch Number 570 and loss is 0.024290475994348526\n",
            "On Epoch Number 580 and loss is 0.024174263700842857\n",
            "On Epoch Number 590 and loss is 0.024058852344751358\n",
            "On Epoch Number 600 and loss is 0.023944150656461716\n",
            "On Epoch Number 610 and loss is 0.023830212652683258\n",
            "On Epoch Number 620 and loss is 0.023716889321804047\n",
            "On Epoch Number 630 and loss is 0.02360435388982296\n",
            "On Epoch Number 640 and loss is 0.023492570966482162\n",
            "On Epoch Number 650 and loss is 0.023381488397717476\n",
            "On Epoch Number 660 and loss is 0.02327115647494793\n",
            "On Epoch Number 670 and loss is 0.023161565884947777\n",
            "On Epoch Number 680 and loss is 0.02305280789732933\n",
            "On Epoch Number 690 and loss is 0.022944850847125053\n",
            "On Epoch Number 700 and loss is 0.022837679833173752\n",
            "On Epoch Number 710 and loss is 0.022731469944119453\n",
            "On Epoch Number 720 and loss is 0.02262611873447895\n",
            "On Epoch Number 730 and loss is 0.022521676495671272\n",
            "On Epoch Number 740 and loss is 0.02241821214556694\n",
            "On Epoch Number 750 and loss is 0.02231566421687603\n",
            "On Epoch Number 760 and loss is 0.022214176133275032\n",
            "On Epoch Number 770 and loss is 0.022113613784313202\n",
            "On Epoch Number 780 and loss is 0.022014236077666283\n",
            "On Epoch Number 790 and loss is 0.02191603183746338\n",
            "On Epoch Number 800 and loss is 0.021818893030285835\n",
            "On Epoch Number 810 and loss is 0.02172287553548813\n",
            "On Epoch Number 820 and loss is 0.021628232672810555\n",
            "On Epoch Number 830 and loss is 0.02217564731836319\n",
            "On Epoch Number 840 and loss is 0.02414039708673954\n",
            "On Epoch Number 850 and loss is 0.022382019087672234\n",
            "On Epoch Number 860 and loss is 0.021793212741613388\n",
            "On Epoch Number 870 and loss is 0.021648617461323738\n",
            "On Epoch Number 880 and loss is 0.02123245783150196\n",
            "On Epoch Number 890 and loss is 0.021892914548516273\n",
            "On Epoch Number 900 and loss is 0.021028924733400345\n",
            "On Epoch Number 910 and loss is 0.022667551413178444\n",
            "On Epoch Number 920 and loss is 0.020876402035355568\n",
            "On Epoch Number 930 and loss is 0.022090673446655273\n",
            "On Epoch Number 940 and loss is 0.020748278126120567\n",
            "On Epoch Number 950 and loss is 0.02272968180477619\n",
            "On Epoch Number 960 and loss is 0.02063039317727089\n",
            "On Epoch Number 970 and loss is 0.021895818412303925\n",
            "On Epoch Number 980 and loss is 0.020517829805612564\n",
            "On Epoch Number 990 and loss is 0.02246135286986828\n"
          ]
        }
      ]
    },
    {
      "cell_type": "code",
      "source": [
        "# Graph\n",
        "plt.plot(range(epochs), losses)\n",
        "plt.ylabel(\"Loss\")\n",
        "plt.xlabel(\"Epoch\")"
      ],
      "metadata": {
        "colab": {
          "base_uri": "https://localhost:8080/",
          "height": 466
        },
        "id": "BSUPf_5KWWCW",
        "outputId": "687b2dd0-7cad-414c-bf0b-e3f5d1fa41b8"
      },
      "execution_count": 32,
      "outputs": [
        {
          "output_type": "execute_result",
          "data": {
            "text/plain": [
              "Text(0.5, 0, 'Epoch')"
            ]
          },
          "metadata": {},
          "execution_count": 32
        },
        {
          "output_type": "display_data",
          "data": {
            "text/plain": [
              "<Figure size 640x480 with 1 Axes>"
            ],
            "image/png": "[encoded data removed]"
          },
          "metadata": {}
        }
      ]
    },
    {
      "cell_type": "code",
      "source": [],
      "metadata": {
        "id": "rHW_v5trWWEs"
      },
      "execution_count": 32,
      "outputs": []
    },
    {
      "cell_type": "code",
      "source": [],
      "metadata": {
        "id": "YEHuVSeLWWGI"
      },
      "execution_count": 32,
      "outputs": []
    },
    {
      "cell_type": "code",
      "source": [],
      "metadata": {
        "id": "3BZmxvxLWWH8"
      },
      "execution_count": 32,
      "outputs": []
    },
    {
      "cell_type": "code",
      "source": [],
      "metadata": {
        "id": "p3-hXsKDWWJu"
      },
      "execution_count": 32,
      "outputs": []
    },
    {
      "cell_type": "markdown",
      "metadata": {
        "id": "33a73df0"
      },
      "source": [
        "We can also visualize the training loss over the epochs to see how the model converged."
      ]
    },
    {
      "cell_type": "code",
      "metadata": {
        "colab": {
          "base_uri": "https://localhost:8080/",
          "height": 472
        },
        "id": "c6113832",
        "outputId": "95075cb5-c10a-487a-e7b4-4a4ca7ec4fdf"
      },
      "source": [
        "# Graph the loss\n",
        "plt.plot(range(epochs), losses)\n",
        "plt.ylabel(\"Loss\")\n",
        "plt.xlabel(\"Epoch\")\n",
        "plt.title(\"Training Loss over Epochs\")\n",
        "plt.show()"
      ],
      "execution_count": 33,
      "outputs": [
        {
          "output_type": "display_data",
          "data": {
            "text/plain": [
              "<Figure size 640x480 with 1 Axes>"
            ],
            "image/png": "[encoded data removed]"
          },
          "metadata": {}
        }
      ]
    },
    {
      "cell_type": "markdown",
      "metadata": {
        "id": "2b89d283"
      },
      "source": [
        "Now that the model has been trained, let's evaluate its performance on the test set."
      ]
    },
    {
      "cell_type": "code",
      "metadata": {
        "colab": {
          "base_uri": "https://localhost:8080/"
        },
        "id": "b3bf9c39",
        "outputId": "a0cb8805-c66d-48f3-c76d-c3ef7b8a648f"
      },
      "source": [
        "# Evaluate the model on the test set\n",
        "with torch.no_grad(): # Turn off gradients for evaluation\n",
        "    y_test_pred = model(X_test)\n",
        "    test_loss = criterion(y_test_pred, Y_test)\n",
        "\n",
        "print(f\"Test Loss: {test_loss.item()}\")\n",
        "\n",
        "# Calculate accuracy\n",
        "correct = (torch.argmax(y_test_pred, dim=1) == Y_test).sum().item()\n",
        "accuracy = correct / len(Y_test)\n",
        "print(f\"Test Accuracy: {accuracy}\")"
      ],
      "execution_count": 34,
      "outputs": [
        {
          "output_type": "stream",
          "name": "stdout",
          "text": [
            "Test Loss: 0.1767609864473343\n",
            "Test Accuracy: 0.9666666666666667\n"
          ]
        }
      ]
    }
  ]
}