{
  "nbformat": 4,
  "nbformat_minor": 0,
  "metadata": {
    "colab": {
      "provenance": [],
      "gpuType": "T4",
      "authorship_tag": "ABX9TyMhIgQM6TPxdTH0JfpO+Rv9",
      "include_colab_link": true
    },
    "kernelspec": {
      "name": "python3",
      "display_name": "Python 3"
    },
    "language_info": {
      "name": "python"
    },
    "accelerator": "GPU"
  },
  "cells": [
    {
      "cell_type": "markdown",
      "metadata": {
        "id": "view-in-github",
        "colab_type": "text"
      },
      "source": [
        "<a href=\"https://colab.research.google.com/github/JonathonLeiding/introductory_neural_network/blob/main/easy_neural_network.ipynb\" target=\"_parent\"><img src=\"https://colab.research.google.com/assets/colab-badge.svg\" alt=\"Open In Colab\"/></a>"
      ]
    },
    {
      "cell_type": "code",
      "execution_count": 132,
      "metadata": {
        "id": "7fTDW5ECNnri"
      },
      "outputs": [],
      "source": [
        "import torch\n",
        "import torch.nn as nn\n",
        "import torch.nn.functional as F\n",
        "import torch.optim as optim\n",
        "from torch.utils.data import Dataset, DataLoader\n",
        "import pandas as pd\n",
        "import numpy as np\n",
        "import matplotlib.pyplot as plt\n",
        "import seaborn as sns"
      ]
    },
    {
      "cell_type": "code",
      "source": [
        "# Create a Model Class that inherits the nn.Module\n",
        "class Model(nn.Module):\n",
        "  # Input layer (4 features of the flower) -> H1 Layer (some # of neurons) -> H2 Layer (some # of neurons) -> H1 Layer (some # of neurons) -> Output layer (3 classes of iris flowers)\n",
        "\n",
        "    def __init__(self, in_features=4, h1=8, h2=9, h3=10, out_features=3):\n",
        "        super().__init__() #instantiates nn.Module\n",
        "        self.fc1 = nn.Linear(in_features, h1)\n",
        "        self.fc2 = nn.Linear(h1, h2)\n",
        "        self.fc3 = nn.Linear(h2, h3)\n",
        "        self.out = nn.Linear(h3, out_features)\n",
        "\n",
        "        # Feed Forward\n",
        "    def forward(self, x):\n",
        "        x = F.leaky_relu(self.fc1(x))\n",
        "        x = F.leaky_relu(self.fc2(x))\n",
        "        x = F.leaky_relu(self.fc3(x))\n",
        "\n",
        "        return x\n",
        "\n",
        ""
      ],
      "metadata": {
        "id": "bLG98XBoNx7M"
      },
      "execution_count": 133,
      "outputs": []
    },
    {
      "cell_type": "code",
      "source": [
        "# Pick a seed for randomization\n",
        "torch.manual_seed(29)\n",
        "# Create an instance of a Model\n",
        "model = Model()"
      ],
      "metadata": {
        "id": "7WTTghq0Nx9e"
      },
      "execution_count": 134,
      "outputs": []
    },
    {
      "cell_type": "code",
      "source": [
        "%matplotlib inline"
      ],
      "metadata": {
        "id": "nzVH6s0fNx_K"
      },
      "execution_count": 135,
      "outputs": []
    },
    {
      "cell_type": "code",
      "source": [
        "url = 'https://gist.githubusercontent.com/curran/a08a1080b88344b0c8a7/raw/0e7a9b0a5d22642a06d3d5b9bcbad9890c8ee534/iris.csv'\n",
        "my_df = pd.read_csv(url)"
      ],
      "metadata": {
        "id": "WszGgwfENyBW"
      },
      "execution_count": 136,
      "outputs": []
    },
    {
      "cell_type": "code",
      "source": [
        "my_df"
      ],
      "metadata": {
        "colab": {
          "base_uri": "https://localhost:8080/",
          "height": 424
        },
        "id": "505NfumiNyDd",
        "outputId": "25dd3e34-8618-4dfe-e866-4c5dda9c7d1b"
      },
      "execution_count": 137,
      "outputs": [
        {
          "output_type": "execute_result",
          "data": {
            "text/plain": [
              "     sepal_length  sepal_width  petal_length  petal_width    species\n",
              "0             5.1          3.5           1.4          0.2     setosa\n",
              "1             4.9          3.0           1.4          0.2     setosa\n",
              "2             4.7          3.2           1.3          0.2     setosa\n",
              "3             4.6          3.1           1.5          0.2     setosa\n",
              "4             5.0          3.6           1.4          0.2     setosa\n",
              "..            ...          ...           ...          ...        ...\n",
              "145           6.7          3.0           5.2          2.3  virginica\n",
              "146           6.3          2.5           5.0          1.9  virginica\n",
              "147           6.5          3.0           5.2          2.0  virginica\n",
              "148           6.2          3.4           5.4          2.3  virginica\n",
              "149           5.9          3.0           5.1          1.8  virginica\n",
              "\n",
              "[150 rows x 5 columns]"
            ],
            "text/html": [
              "\n",
              "  <div id=\"df-55a5fc07-b0c2-4d4f-80c1-3d4102e83357\" class=\"colab-df-container\">\n",
              "    <div>\n",
              "<style scoped>\n",
              "    .dataframe tbody tr th:only-of-type {\n",
              "        vertical-align: middle;\n",
              "    }\n",
              "\n",
              "    .dataframe tbody tr th {\n",
              "        vertical-align: top;\n",
              "    }\n",
              "\n",
              "    .dataframe thead th {\n",
              "        text-align: right;\n",
              "    }\n",
              "</style>\n",
              "<table border=\"1\" class=\"dataframe\">\n",
              "  <thead>\n",
              "    <tr style=\"text-align: right;\">\n",
              "      <th></th>\n",
              "      <th>sepal_length</th>\n",
              "      <th>sepal_width</th>\n",
              "      <th>petal_length</th>\n",
              "      <th>petal_width</th>\n",
              "      <th>species</th>\n",
              "    </tr>\n",
              "  </thead>\n",
              "  <tbody>\n",
              "    <tr>\n",
              "      <th>0</th>\n",
              "      <td>5.1</td>\n",
              "      <td>3.5</td>\n",
              "      <td>1.4</td>\n",
              "      <td>0.2</td>\n",
              "      <td>setosa</td>\n",
              "    </tr>\n",
              "    <tr>\n",
              "      <th>1</th>\n",
              "      <td>4.9</td>\n",
              "      <td>3.0</td>\n",
              "      <td>1.4</td>\n",
              "      <td>0.2</td>\n",
              "      <td>setosa</td>\n",
              "    </tr>\n",
              "    <tr>\n",
              "      <th>2</th>\n",
              "      <td>4.7</td>\n",
              "      <td>3.2</td>\n",
              "      <td>1.3</td>\n",
              "      <td>0.2</td>\n",
              "      <td>setosa</td>\n",
              "    </tr>\n",
              "    <tr>\n",
              "      <th>3</th>\n",
              "      <td>4.6</td>\n",
              "      <td>3.1</td>\n",
              "      <td>1.5</td>\n",
              "      <td>0.2</td>\n",
              "      <td>setosa</td>\n",
              "    </tr>\n",
              "    <tr>\n",
              "      <th>4</th>\n",
              "      <td>5.0</td>\n",
              "      <td>3.6</td>\n",
              "      <td>1.4</td>\n",
              "      <td>0.2</td>\n",
              "      <td>setosa</td>\n",
              "    </tr>\n",
              "    <tr>\n",
              "      <th>...</th>\n",
              "      <td>...</td>\n",
              "      <td>...</td>\n",
              "      <td>...</td>\n",
              "      <td>...</td>\n",
              "      <td>...</td>\n",
              "    </tr>\n",
              "    <tr>\n",
              "      <th>145</th>\n",
              "      <td>6.7</td>\n",
              "      <td>3.0</td>\n",
              "      <td>5.2</td>\n",
              "      <td>2.3</td>\n",
              "      <td>virginica</td>\n",
              "    </tr>\n",
              "    <tr>\n",
              "      <th>146</th>\n",
              "      <td>6.3</td>\n",
              "      <td>2.5</td>\n",
              "      <td>5.0</td>\n",
              "      <td>1.9</td>\n",
              "      <td>virginica</td>\n",
              "    </tr>\n",
              "    <tr>\n",
              "      <th>147</th>\n",
              "      <td>6.5</td>\n",
              "      <td>3.0</td>\n",
              "      <td>5.2</td>\n",
              "      <td>2.0</td>\n",
              "      <td>virginica</td>\n",
              "    </tr>\n",
              "    <tr>\n",
              "      <th>148</th>\n",
              "      <td>6.2</td>\n",
              "      <td>3.4</td>\n",
              "      <td>5.4</td>\n",
              "      <td>2.3</td>\n",
              "      <td>virginica</td>\n",
              "    </tr>\n",
              "    <tr>\n",
              "      <th>149</th>\n",
              "      <td>5.9</td>\n",
              "      <td>3.0</td>\n",
              "      <td>5.1</td>\n",
              "      <td>1.8</td>\n",
              "      <td>virginica</td>\n",
              "    </tr>\n",
              "  </tbody>\n",
              "</table>\n",
              "<p>150 rows × 5 columns</p>\n",
              "</div>\n",
              "    <div class=\"colab-df-buttons\">\n",
              "\n",
              "  <div class=\"colab-df-container\">\n",
              "    <button class=\"colab-df-convert\" onclick=\"convertToInteractive('df-55a5fc07-b0c2-4d4f-80c1-3d4102e83357')\"\n",
              "            title=\"Convert this dataframe to an interactive table.\"\n",
              "            style=\"display:none;\">\n",
              "\n",
              "  <svg xmlns=\"http://www.w3.org/2000/svg\" height=\"24px\" viewBox=\"0 -960 960 960\">\n",
              "    <path d=\"M120-120v-720h720v720H120Zm60-500h600v-160H180v160Zm220 220h160v-160H400v160Zm0 220h160v-160H400v160ZM180-400h160v-160H180v160Zm440 0h160v-160H620v160ZM180-180h160v-160H180v160Zm440 0h160v-160H620v160Z\"/>\n",
              "  </svg>\n",
              "    </button>\n",
              "\n",
              "  <style>\n",
              "    .colab-df-container {\n",
              "      display:flex;\n",
              "      gap: 12px;\n",
              "    }\n",
              "\n",
              "    .colab-df-convert {\n",
              "      background-color: #E8F0FE;\n",
              "      border: none;\n",
              "      border-radius: 50%;\n",
              "      cursor: pointer;\n",
              "      display: none;\n",
              "      fill: #1967D2;\n",
              "      height: 32px;\n",
              "      padding: 0 0 0 0;\n",
              "      width: 32px;\n",
              "    }\n",
              "\n",
              "    .colab-df-convert:hover {\n",
              "      background-color: #E2EBFA;\n",
              "      box-shadow: 0px 1px 2px rgba(60, 64, 67, 0.3), 0px 1px 3px 1px rgba(60, 64, 67, 0.15);\n",
              "      fill: #174EA6;\n",
              "    }\n",
              "\n",
              "    .colab-df-buttons div {\n",
              "      margin-bottom: 4px;\n",
              "    }\n",
              "\n",
              "    [theme=dark] .colab-df-convert {\n",
              "      background-color: #3B4455;\n",
              "      fill: #D2E3FC;\n",
              "    }\n",
              "\n",
              "    [theme=dark] .colab-df-convert:hover {\n",
              "      background-color: #434B5C;\n",
              "      box-shadow: 0px 1px 3px 1px rgba(0, 0, 0, 0.15);\n",
              "      filter: drop-shadow(0px 1px 2px rgba(0, 0, 0, 0.3));\n",
              "      fill: #FFFFFF;\n",
              "    }\n",
              "  </style>\n",
              "\n",
              "    <script>\n",
              "      const buttonEl =\n",
              "        document.querySelector('#df-55a5fc07-b0c2-4d4f-80c1-3d4102e83357 button.colab-df-convert');\n",
              "      buttonEl.style.display =\n",
              "        google.colab.kernel.accessAllowed ? 'block' : 'none';\n",
              "\n",
              "      async function convertToInteractive(key) {\n",
              "        const element = document.querySelector('#df-55a5fc07-b0c2-4d4f-80c1-3d4102e83357');\n",
              "        const dataTable =\n",
              "          await google.colab.kernel.invokeFunction('convertToInteractive',\n",
              "                                                    [key], {});\n",
              "        if (!dataTable) return;\n",
              "\n",
              "        const docLinkHtml = 'Like what you see? Visit the ' +\n",
              "          '<a target=\"_blank\" href=https://colab.research.google.com/notebooks/data_table.ipynb>data table notebook</a>'\n",
              "          + ' to learn more about interactive tables.';\n",
              "        element.innerHTML = '';\n",
              "        dataTable['output_type'] = 'display_data';\n",
              "        await google.colab.output.renderOutput(dataTable, element);\n",
              "        const docLink = document.createElement('div');\n",
              "        docLink.innerHTML = docLinkHtml;\n",
              "        element.appendChild(docLink);\n",
              "      }\n",
              "    </script>\n",
              "  </div>\n",
              "\n",
              "\n",
              "    <div id=\"df-5a7f5195-3fb4-45e0-a3ec-b7d3953d8225\">\n",
              "      <button class=\"colab-df-quickchart\" onclick=\"quickchart('df-5a7f5195-3fb4-45e0-a3ec-b7d3953d8225')\"\n",
              "                title=\"Suggest charts\"\n",
              "                style=\"display:none;\">\n",
              "\n",
              "<svg xmlns=\"http://www.w3.org/2000/svg\" height=\"24px\"viewBox=\"0 0 24 24\"\n",
              "     width=\"24px\">\n",
              "    <g>\n",
              "        <path d=\"M19 3H5c-1.1 0-2 .9-2 2v14c0 1.1.9 2 2 2h14c1.1 0 2-.9 2-2V5c0-1.1-.9-2-2-2zM9 17H7v-7h2v7zm4 0h-2V7h2v10zm4 0h-2v-4h2v4z\"/>\n",
              "    </g>\n",
              "</svg>\n",
              "      </button>\n",
              "\n",
              "<style>\n",
              "  .colab-df-quickchart {\n",
              "      --bg-color: #E8F0FE;\n",
              "      --fill-color: #1967D2;\n",
              "      --hover-bg-color: #E2EBFA;\n",
              "      --hover-fill-color: #174EA6;\n",
              "      --disabled-fill-color: #AAA;\n",
              "      --disabled-bg-color: #DDD;\n",
              "  }\n",
              "\n",
              "  [theme=dark] .colab-df-quickchart {\n",
              "      --bg-color: #3B4455;\n",
              "      --fill-color: #D2E3FC;\n",
              "      --hover-bg-color: #434B5C;\n",
              "      --hover-fill-color: #FFFFFF;\n",
              "      --disabled-bg-color: #3B4455;\n",
              "      --disabled-fill-color: #666;\n",
              "  }\n",
              "\n",
              "  .colab-df-quickchart {\n",
              "    background-color: var(--bg-color);\n",
              "    border: none;\n",
              "    border-radius: 50%;\n",
              "    cursor: pointer;\n",
              "    display: none;\n",
              "    fill: var(--fill-color);\n",
              "    height: 32px;\n",
              "    padding: 0;\n",
              "    width: 32px;\n",
              "  }\n",
              "\n",
              "  .colab-df-quickchart:hover {\n",
              "    background-color: var(--hover-bg-color);\n",
              "    box-shadow: 0 1px 2px rgba(60, 64, 67, 0.3), 0 1px 3px 1px rgba(60, 64, 67, 0.15);\n",
              "    fill: var(--button-hover-fill-color);\n",
              "  }\n",
              "\n",
              "  .colab-df-quickchart-complete:disabled,\n",
              "  .colab-df-quickchart-complete:disabled:hover {\n",
              "    background-color: var(--disabled-bg-color);\n",
              "    fill: var(--disabled-fill-color);\n",
              "    box-shadow: none;\n",
              "  }\n",
              "\n",
              "  .colab-df-spinner {\n",
              "    border: 2px solid var(--fill-color);\n",
              "    border-color: transparent;\n",
              "    border-bottom-color: var(--fill-color);\n",
              "    animation:\n",
              "      spin 1s steps(1) infinite;\n",
              "  }\n",
              "\n",
              "  @keyframes spin {\n",
              "    0% {\n",
              "      border-color: transparent;\n",
              "      border-bottom-color: var(--fill-color);\n",
              "      border-left-color: var(--fill-color);\n",
              "    }\n",
              "    20% {\n",
              "      border-color: transparent;\n",
              "      border-left-color: var(--fill-color);\n",
              "      border-top-color: var(--fill-color);\n",
              "    }\n",
              "    30% {\n",
              "      border-color: transparent;\n",
              "      border-left-color: var(--fill-color);\n",
              "      border-top-color: var(--fill-color);\n",
              "      border-right-color: var(--fill-color);\n",
              "    }\n",
              "    40% {\n",
              "      border-color: transparent;\n",
              "      border-right-color: var(--fill-color);\n",
              "      border-top-color: var(--fill-color);\n",
              "    }\n",
              "    60% {\n",
              "      border-color: transparent;\n",
              "      border-right-color: var(--fill-color);\n",
              "    }\n",
              "    80% {\n",
              "      border-color: transparent;\n",
              "      border-right-color: var(--fill-color);\n",
              "      border-bottom-color: var(--fill-color);\n",
              "    }\n",
              "    90% {\n",
              "      border-color: transparent;\n",
              "      border-bottom-color: var(--fill-color);\n",
              "    }\n",
              "  }\n",
              "</style>\n",
              "\n",
              "      <script>\n",
              "        async function quickchart(key) {\n",
              "          const quickchartButtonEl =\n",
              "            document.querySelector('#' + key + ' button');\n",
              "          quickchartButtonEl.disabled = true;  // To prevent multiple clicks.\n",
              "          quickchartButtonEl.classList.add('colab-df-spinner');\n",
              "          try {\n",
              "            const charts = await google.colab.kernel.invokeFunction(\n",
              "                'suggestCharts', [key], {});\n",
              "          } catch (error) {\n",
              "            console.error('Error during call to suggestCharts:', error);\n",
              "          }\n",
              "          quickchartButtonEl.classList.remove('colab-df-spinner');\n",
              "          quickchartButtonEl.classList.add('colab-df-quickchart-complete');\n",
              "        }\n",
              "        (() => {\n",
              "          let quickchartButtonEl =\n",
              "            document.querySelector('#df-5a7f5195-3fb4-45e0-a3ec-b7d3953d8225 button');\n",
              "          quickchartButtonEl.style.display =\n",
              "            google.colab.kernel.accessAllowed ? 'block' : 'none';\n",
              "        })();\n",
              "      </script>\n",
              "    </div>\n",
              "\n",
              "  <div id=\"id_01198ae2-12d3-4b82-a355-3781977ce83b\">\n",
              "    <style>\n",
              "      .colab-df-generate {\n",
              "        background-color: #E8F0FE;\n",
              "        border: none;\n",
              "        border-radius: 50%;\n",
              "        cursor: pointer;\n",
              "        display: none;\n",
              "        fill: #1967D2;\n",
              "        height: 32px;\n",
              "        padding: 0 0 0 0;\n",
              "        width: 32px;\n",
              "      }\n",
              "\n",
              "      .colab-df-generate:hover {\n",
              "        background-color: #E2EBFA;\n",
              "        box-shadow: 0px 1px 2px rgba(60, 64, 67, 0.3), 0px 1px 3px 1px rgba(60, 64, 67, 0.15);\n",
              "        fill: #174EA6;\n",
              "      }\n",
              "\n",
              "      [theme=dark] .colab-df-generate {\n",
              "        background-color: #3B4455;\n",
              "        fill: #D2E3FC;\n",
              "      }\n",
              "\n",
              "      [theme=dark] .colab-df-generate:hover {\n",
              "        background-color: #434B5C;\n",
              "        box-shadow: 0px 1px 3px 1px rgba(0, 0, 0, 0.15);\n",
              "        filter: drop-shadow(0px 1px 2px rgba(0, 0, 0, 0.3));\n",
              "        fill: #FFFFFF;\n",
              "      }\n",
              "    </style>\n",
              "    <button class=\"colab-df-generate\" onclick=\"generateWithVariable('my_df')\"\n",
              "            title=\"Generate code using this dataframe.\"\n",
              "            style=\"display:none;\">\n",
              "\n",
              "  <svg xmlns=\"http://www.w3.org/2000/svg\" height=\"24px\"viewBox=\"0 0 24 24\"\n",
              "       width=\"24px\">\n",
              "    <path d=\"M7,19H8.4L18.45,9,17,7.55,7,17.6ZM5,21V16.75L18.45,3.32a2,2,0,0,1,2.83,0l1.4,1.43a1.91,1.91,0,0,1,.58,1.4,1.91,1.91,0,0,1-.58,1.4L9.25,21ZM18.45,9,17,7.55Zm-12,3A5.31,5.31,0,0,0,4.9,8.1,5.31,5.31,0,0,0,1,6.5,5.31,5.31,0,0,0,4.9,4.9,5.31,5.31,0,0,0,6.5,1,5.31,5.31,0,0,0,8.1,4.9,5.31,5.31,0,0,0,12,6.5,5.46,5.46,0,0,0,6.5,12Z\"/>\n",
              "  </svg>\n",
              "    </button>\n",
              "    <script>\n",
              "      (() => {\n",
              "      const buttonEl =\n",
              "        document.querySelector('#id_01198ae2-12d3-4b82-a355-3781977ce83b button.colab-df-generate');\n",
              "      buttonEl.style.display =\n",
              "        google.colab.kernel.accessAllowed ? 'block' : 'none';\n",
              "\n",
              "      buttonEl.onclick = () => {\n",
              "        google.colab.notebook.generateWithVariable('my_df');\n",
              "      }\n",
              "      })();\n",
              "    </script>\n",
              "  </div>\n",
              "\n",
              "    </div>\n",
              "  </div>\n"
            ],
            "application/vnd.google.colaboratory.intrinsic+json": {
              "type": "dataframe",
              "variable_name": "my_df",
              "summary": "{\n  \"name\": \"my_df\",\n  \"rows\": 150,\n  \"fields\": [\n    {\n      \"column\": \"sepal_length\",\n      \"properties\": {\n        \"dtype\": \"number\",\n        \"std\": 0.8280661279778629,\n        \"min\": 4.3,\n        \"max\": 7.9,\n        \"num_unique_values\": 35,\n        \"samples\": [\n          6.2,\n          4.5,\n          5.6\n        ],\n        \"semantic_type\": \"\",\n        \"description\": \"\"\n      }\n    },\n    {\n      \"column\": \"sepal_width\",\n      \"properties\": {\n        \"dtype\": \"number\",\n        \"std\": 0.4335943113621737,\n        \"min\": 2.0,\n        \"max\": 4.4,\n        \"num_unique_values\": 23,\n        \"samples\": [\n          2.3,\n          4.0,\n          3.5\n        ],\n        \"semantic_type\": \"\",\n        \"description\": \"\"\n      }\n    },\n    {\n      \"column\": \"petal_length\",\n      \"properties\": {\n        \"dtype\": \"number\",\n        \"std\": 1.7644204199522617,\n        \"min\": 1.0,\n        \"max\": 6.9,\n        \"num_unique_values\": 43,\n        \"samples\": [\n          6.7,\n          3.8,\n          3.7\n        ],\n        \"semantic_type\": \"\",\n        \"description\": \"\"\n      }\n    },\n    {\n      \"column\": \"petal_width\",\n      \"properties\": {\n        \"dtype\": \"number\",\n        \"std\": 0.7631607417008414,\n        \"min\": 0.1,\n        \"max\": 2.5,\n        \"num_unique_values\": 22,\n        \"samples\": [\n          0.2,\n          1.2,\n          1.3\n        ],\n        \"semantic_type\": \"\",\n        \"description\": \"\"\n      }\n    },\n    {\n      \"column\": \"species\",\n      \"properties\": {\n        \"dtype\": \"category\",\n        \"num_unique_values\": 3,\n        \"samples\": [\n          \"setosa\",\n          \"versicolor\",\n          \"virginica\"\n        ],\n        \"semantic_type\": \"\",\n        \"description\": \"\"\n      }\n    }\n  ]\n}"
            }
          },
          "metadata": {},
          "execution_count": 137
        }
      ]
    },
    {
      "cell_type": "code",
      "source": [
        "#Could also do my_df['species'] = my_df['species'].replace('setosa', 0.0) and repeat for all three species\n",
        "my_df['species'] = my_df['species'].map({'setosa':0, 'versicolor':1, 'virginica':2})"
      ],
      "metadata": {
        "id": "hAX-XeKRNyFW"
      },
      "execution_count": 138,
      "outputs": []
    },
    {
      "cell_type": "code",
      "source": [
        "# Train Test Split! Set X, Y    (Note that .values convert these values to numpy arrays)\n",
        "X = my_df.drop('species', axis=1).values\n",
        "Y = my_df['species'].values"
      ],
      "metadata": {
        "id": "ubXgxohfNyHO"
      },
      "execution_count": 139,
      "outputs": []
    },
    {
      "cell_type": "code",
      "source": [
        "from sklearn.model_selection import train_test_split"
      ],
      "metadata": {
        "id": "6VDepCohNyI4"
      },
      "execution_count": 140,
      "outputs": []
    },
    {
      "cell_type": "code",
      "source": [
        "X_train, X_test, Y_train, Y_test = train_test_split(X,Y, test_size=0.2, random_state=29)"
      ],
      "metadata": {
        "id": "Ev7cArlwNyKy"
      },
      "execution_count": 141,
      "outputs": []
    },
    {
      "cell_type": "code",
      "source": [
        "# Convert X features to FloatTensor\n",
        "X_train = torch.FloatTensor(X_train)\n",
        "X_test = torch.FloatTensor(X_test)\n",
        "\n",
        "# Convert Y features to LongTensor (because they are 64 bit integers)\n",
        "Y_train = torch.LongTensor(Y_train)\n",
        "Y_test = torch.LongTensor(Y_test)"
      ],
      "metadata": {
        "id": "o8odve9WNyMp"
      },
      "execution_count": 142,
      "outputs": []
    },
    {
      "cell_type": "code",
      "source": [
        "# Set the criteria for which we measure our error (disparity between correct answers)\n",
        "criterion = nn.CrossEntropyLoss()\n",
        "\n",
        "# Choose Adam Optimizers and set learning rate (if learning rate is too high our error won't go down even after a bunch of iterations/epochs => lower lr longer it takes to learn)\n",
        "optimizer = torch.optim.Adam(model.parameters(), lr=0.01)"
      ],
      "metadata": {
        "id": "Xh64HrDdNyOs"
      },
      "execution_count": 143,
      "outputs": []
    },
    {
      "cell_type": "code",
      "source": [
        "model.parameters()"
      ],
      "metadata": {
        "colab": {
          "base_uri": "https://localhost:8080/"
        },
        "id": "ZF_cqsyQWVgt",
        "outputId": "f66a378d-92b8-461b-b3d6-feada935dbbb"
      },
      "execution_count": 144,
      "outputs": [
        {
          "output_type": "execute_result",
          "data": {
            "text/plain": [
              "<generator object Module.parameters at 0x7974bb2f9620>"
            ]
          },
          "metadata": {},
          "execution_count": 144
        }
      ]
    },
    {
      "cell_type": "code",
      "source": [
        "#Train our Model (Epoch := going through all the training data one time)\n",
        "epochs = 1000\n",
        "losses = []\n",
        "\n",
        "for i in range(epochs):\n",
        "  # Go Forward\n",
        "  y_prediction = model.forward(X_train) #Predicted results\n",
        "\n",
        "  # Measure error\n",
        "  loss = criterion(y_prediction, Y_train)\n",
        "  losses.append(loss.detach().cpu().numpy()) #changes the elt from a tesnor to numpy array\n",
        "\n",
        "  if i % 10 == 0:\n",
        "    print(f\"On Epoch Number {i} and loss is {loss}\")\n",
        "\n",
        "  # Do Some Back Propogation (changing weights on neurons by sending error rate of the forward propogation to learn \"better\")\n",
        "  optimizer.zero_grad()\n",
        "  loss.backward()\n",
        "  optimizer.step()"
      ],
      "metadata": {
        "colab": {
          "base_uri": "https://localhost:8080/"
        },
        "id": "-7x51v1uWWAN",
        "outputId": "2fb5b4f1-ee0e-47c5-bd08-ca86346c217e"
      },
      "execution_count": 145,
      "outputs": [
        {
          "output_type": "stream",
          "name": "stdout",
          "text": [
            "On Epoch Number 0 and loss is 2.359713315963745\n",
            "On Epoch Number 10 and loss is 1.758827567100525\n",
            "On Epoch Number 20 and loss is 1.620215892791748\n",
            "On Epoch Number 30 and loss is 1.4901981353759766\n",
            "On Epoch Number 40 and loss is 1.3693957328796387\n",
            "On Epoch Number 50 and loss is 1.277105689048767\n",
            "On Epoch Number 60 and loss is 1.1692314147949219\n",
            "On Epoch Number 70 and loss is 0.43736231327056885\n",
            "On Epoch Number 80 and loss is 0.09839732199907303\n",
            "On Epoch Number 90 and loss is 0.05972563475370407\n",
            "On Epoch Number 100 and loss is 0.04969979450106621\n",
            "On Epoch Number 110 and loss is 0.045603133738040924\n",
            "On Epoch Number 120 and loss is 0.04337124526500702\n",
            "On Epoch Number 130 and loss is 0.04182504117488861\n",
            "On Epoch Number 140 and loss is 0.04058774933218956\n",
            "On Epoch Number 150 and loss is 0.03951225429773331\n",
            "On Epoch Number 160 and loss is 0.03853694349527359\n",
            "On Epoch Number 170 and loss is 0.03762795776128769\n",
            "On Epoch Number 180 and loss is 0.03676820918917656\n",
            "On Epoch Number 190 and loss is 0.03594746068120003\n",
            "On Epoch Number 200 and loss is 0.035160522907972336\n",
            "On Epoch Number 210 and loss is 0.03440364450216293\n",
            "On Epoch Number 220 and loss is 0.033675454556941986\n",
            "On Epoch Number 230 and loss is 0.032975826412439346\n",
            "On Epoch Number 240 and loss is 0.03230414167046547\n",
            "On Epoch Number 250 and loss is 0.03166048973798752\n",
            "On Epoch Number 260 and loss is 0.03104564920067787\n",
            "On Epoch Number 270 and loss is 0.030461104586720467\n",
            "On Epoch Number 280 and loss is 0.02990732714533806\n",
            "On Epoch Number 290 and loss is 0.029384378343820572\n",
            "On Epoch Number 300 and loss is 0.028897680342197418\n",
            "On Epoch Number 310 and loss is 0.029897866770625114\n",
            "On Epoch Number 320 and loss is 0.028380652889609337\n",
            "On Epoch Number 330 and loss is 0.027922341600060463\n",
            "On Epoch Number 340 and loss is 0.027567945420742035\n",
            "On Epoch Number 350 and loss is 0.02730862982571125\n",
            "On Epoch Number 360 and loss is 0.027022777125239372\n",
            "On Epoch Number 370 and loss is 0.026744822040200233\n",
            "On Epoch Number 380 and loss is 0.026492584496736526\n",
            "On Epoch Number 390 and loss is 0.026634281501173973\n",
            "On Epoch Number 400 and loss is 0.0269779060035944\n",
            "On Epoch Number 410 and loss is 0.02626720629632473\n",
            "On Epoch Number 420 and loss is 0.025706779211759567\n",
            "On Epoch Number 430 and loss is 0.025524018332362175\n",
            "On Epoch Number 440 and loss is 0.02529272809624672\n",
            "On Epoch Number 450 and loss is 0.026126500219106674\n",
            "On Epoch Number 460 and loss is 0.025337105616927147\n",
            "On Epoch Number 470 and loss is 0.02507478930056095\n",
            "On Epoch Number 480 and loss is 0.024576114490628242\n",
            "On Epoch Number 490 and loss is 0.024424724280834198\n",
            "On Epoch Number 500 and loss is 0.024247249588370323\n",
            "On Epoch Number 510 and loss is 0.024734940379858017\n",
            "On Epoch Number 520 and loss is 0.024003980681300163\n",
            "On Epoch Number 530 and loss is 0.02397104725241661\n",
            "On Epoch Number 540 and loss is 0.023683158680796623\n",
            "On Epoch Number 550 and loss is 0.024416357278823853\n",
            "On Epoch Number 560 and loss is 0.02359280362725258\n",
            "On Epoch Number 570 and loss is 0.023346705362200737\n",
            "On Epoch Number 580 and loss is 0.02369261346757412\n",
            "On Epoch Number 590 and loss is 0.02300453372299671\n",
            "On Epoch Number 600 and loss is 0.023505086079239845\n",
            "On Epoch Number 610 and loss is 0.022894641384482384\n",
            "On Epoch Number 620 and loss is 0.023188462480902672\n",
            "On Epoch Number 630 and loss is 0.023495187982916832\n",
            "On Epoch Number 640 and loss is 0.022446725517511368\n",
            "On Epoch Number 650 and loss is 0.02341398224234581\n",
            "On Epoch Number 660 and loss is 0.022486712783575058\n",
            "On Epoch Number 670 and loss is 0.022356964647769928\n",
            "On Epoch Number 680 and loss is 0.02237929031252861\n",
            "On Epoch Number 690 and loss is 0.022011350840330124\n",
            "On Epoch Number 700 and loss is 0.023052463307976723\n",
            "On Epoch Number 710 and loss is 0.021745705977082253\n",
            "On Epoch Number 720 and loss is 0.022870011627674103\n",
            "On Epoch Number 730 and loss is 0.021782539784908295\n",
            "On Epoch Number 740 and loss is 0.021818440407514572\n",
            "On Epoch Number 750 and loss is 0.02165072411298752\n",
            "On Epoch Number 760 and loss is 0.02156149409711361\n",
            "On Epoch Number 770 and loss is 0.022341350093483925\n",
            "On Epoch Number 780 and loss is 0.021151192486286163\n",
            "On Epoch Number 790 and loss is 0.022060146555304527\n",
            "On Epoch Number 800 and loss is 0.020991826429963112\n",
            "On Epoch Number 810 and loss is 0.022492604330182076\n",
            "On Epoch Number 820 and loss is 0.020875321701169014\n",
            "On Epoch Number 830 and loss is 0.022006642073392868\n",
            "On Epoch Number 840 and loss is 0.020836975425481796\n",
            "On Epoch Number 850 and loss is 0.021423859521746635\n",
            "On Epoch Number 860 and loss is 0.020728055387735367\n",
            "On Epoch Number 870 and loss is 0.02104518562555313\n",
            "On Epoch Number 880 and loss is 0.020835677161812782\n",
            "On Epoch Number 890 and loss is 0.020637622103095055\n",
            "On Epoch Number 900 and loss is 0.020712854340672493\n",
            "On Epoch Number 910 and loss is 0.020425496622920036\n",
            "On Epoch Number 920 and loss is 0.020983044058084488\n",
            "On Epoch Number 930 and loss is 0.020232127979397774\n",
            "On Epoch Number 940 and loss is 0.020807532593607903\n",
            "On Epoch Number 950 and loss is 0.02009793557226658\n",
            "On Epoch Number 960 and loss is 0.021090274676680565\n",
            "On Epoch Number 970 and loss is 0.01998104341328144\n",
            "On Epoch Number 980 and loss is 0.02082163095474243\n",
            "On Epoch Number 990 and loss is 0.01987176388502121\n"
          ]
        }
      ]
    },
    {
      "cell_type": "code",
      "source": [
        "# Graph\n",
        "plt.plot(range(epochs), losses)\n",
        "plt.ylabel(\"Loss\")\n",
        "plt.xlabel(\"Epoch\")"
      ],
      "metadata": {
        "colab": {
          "base_uri": "https://localhost:8080/",
          "height": 466
        },
        "id": "BSUPf_5KWWCW",
        "outputId": "6fe451f1-cf17-406c-c182-296f4941cb83"
      },
      "execution_count": 146,
      "outputs": [
        {
          "output_type": "execute_result",
          "data": {
            "text/plain": [
              "Text(0.5, 0, 'Epoch')"
            ]
          },
          "metadata": {},
          "execution_count": 146
        },
        {
          "output_type": "display_data",
          "data": {
            "text/plain": [
              "<Figure size 640x480 with 1 Axes>"
            ],
            "image/png": "[encoded data removed]"
          },
          "metadata": {}
        }
      ]
    },
    {
      "cell_type": "code",
      "source": [],
      "metadata": {
        "id": "rHW_v5trWWEs"
      },
      "execution_count": 146,
      "outputs": []
    },
    {
      "cell_type": "code",
      "source": [],
      "metadata": {
        "id": "YEHuVSeLWWGI"
      },
      "execution_count": 146,
      "outputs": []
    },
    {
      "cell_type": "code",
      "source": [],
      "metadata": {
        "id": "3BZmxvxLWWH8"
      },
      "execution_count": 146,
      "outputs": []
    },
    {
      "cell_type": "code",
      "source": [],
      "metadata": {
        "id": "p3-hXsKDWWJu"
      },
      "execution_count": 146,
      "outputs": []
    },
    {
      "cell_type": "markdown",
      "metadata": {
        "id": "33a73df0"
      },
      "source": [
        "We can also visualize the training loss over the epochs to see how the model converged."
      ]
    },
    {
      "cell_type": "code",
      "metadata": {
        "colab": {
          "base_uri": "https://localhost:8080/",
          "height": 472
        },
        "id": "c6113832",
        "outputId": "4dffd19f-8522-4019-852a-2c708723277e"
      },
      "source": [
        "# Graph the loss\n",
        "plt.plot(range(epochs), losses)\n",
        "plt.ylabel(\"Loss\")\n",
        "plt.xlabel(\"Epoch\")\n",
        "plt.title(\"Training Loss over Epochs\")\n",
        "plt.show()"
      ],
      "execution_count": 148,
      "outputs": [
        {
          "output_type": "display_data",
          "data": {
            "text/plain": [
              "<Figure size 640x480 with 1 Axes>"
            ],
            "image/png": "[encoded data removed]"
          },
          "metadata": {}
        }
      ]
    },
    {
      "cell_type": "markdown",
      "metadata": {
        "id": "2b89d283"
      },
      "source": [
        "Now that the model has been trained, let's evaluate its performance on the test set."
      ]
    },
    {
      "cell_type": "code",
      "metadata": {
        "colab": {
          "base_uri": "https://localhost:8080/"
        },
        "id": "b3bf9c39",
        "outputId": "b8dc2348-41e7-45a6-b1c6-3473f4770062"
      },
      "source": [
        "# Evaluate the model on the test set\n",
        "with torch.no_grad(): # Turn off gradients for evaluation\n",
        "    y_test_pred = model(X_test)\n",
        "    test_loss = criterion(y_test_pred, Y_test)\n",
        "\n",
        "print(f\"Test Loss: {test_loss.item()}\")\n",
        "\n",
        "# Calculate accuracy\n",
        "correct = (torch.argmax(y_test_pred, dim=1) == Y_test).sum().item()\n",
        "accuracy = correct / len(Y_test)\n",
        "print(f\"Test Accuracy: {accuracy}\")"
      ],
      "execution_count": 147,
      "outputs": [
        {
          "output_type": "stream",
          "name": "stdout",
          "text": [
            "Test Loss: 0.1752517968416214\n",
            "Test Accuracy: 0.9666666666666667\n"
          ]
        }
      ]
    }
  ]
}